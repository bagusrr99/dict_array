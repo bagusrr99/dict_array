{
 "cells": [
  {
   "cell_type": "markdown",
   "id": "59e5dee7",
   "metadata": {},
   "source": [
    "# Tugas 2\n"
   ]
  },
  {
   "cell_type": "code",
   "execution_count": 2,
   "id": "6966c279",
   "metadata": {},
   "outputs": [],
   "source": [
    "import numpy as np"
   ]
  },
  {
   "cell_type": "markdown",
   "id": "4a36e949",
   "metadata": {},
   "source": [
    "No. 1"
   ]
  },
  {
   "cell_type": "code",
   "execution_count": 13,
   "id": "568d2d49",
   "metadata": {},
   "outputs": [
    {
     "name": "stdout",
     "output_type": "stream",
     "text": [
      "{'nik': '[1990022,2001077,2002019,2002081,2005099,2006003,2006104,2008160]', 'nama': '[\"herman\",\"badar\",\"clara\",\"rista\",\"riani\",\"afif\",\"riven\",\"endah\"]', 'jenis_kelamin': '[\"L\",\"L\",\"P\",\"P\",\"P\",\"L\",\"L\",\"P\"]', 'alamat': '[\"tangerang\",\"bekasi\",\"depok\",\"bogor\",\"bekasi\",\"karawang\",\"tangerang\",\"jakarta\"]', 'divisi': '[\"machinery\",\"machinery\",\"compressor\",\"QC\",\"QC\",\"compressor\",\"compressor\",\"machinery\"]', 'jabatan': '[\"manager\",\"staf\",\"staf\",\"staf\",\"operator\",\"operator\",\"operator\"]', 'gaji': '[10000000,7500000,7000000,6500000,6000000,5500000,5500000,5000000]'}\n"
     ]
    },
    {
     "data": {
      "text/plain": [
       "dict"
      ]
     },
     "execution_count": 13,
     "metadata": {},
     "output_type": "execute_result"
    }
   ],
   "source": [
    "data = {\n",
    "    'nik':'[1990022,2001077,2002019,2002081,2005099,2006003,2006104,2008160]',\n",
    "    'nama':'[\"herman\",\"badar\",\"clara\",\"rista\",\"riani\",\"afif\",\"riven\",\"endah\"]',\n",
    "    'jenis_kelamin':'[\"L\",\"L\",\"P\",\"P\",\"P\",\"L\",\"L\",\"P\"]',\n",
    "    'alamat':'[\"tangerang\",\"bekasi\",\"depok\",\"bogor\",\"bekasi\",\"karawang\",\"tangerang\",\"jakarta\"]',\n",
    "    'divisi':'[\"machinery\",\"machinery\",\"compressor\",\"QC\",\"QC\",\"compressor\",\"compressor\",\"machinery\"]',\n",
    "    'jabatan':'[\"manager\",\"staf\",\"staf\",\"staf\",\"operator\",\"operator\",\"operator\"]',\n",
    "    'gaji':'[10000000,7500000,7000000,6500000,6000000,5500000,5500000,5000000]'\n",
    "}\n",
    "\n",
    "print(data)\n",
    "type(data)"
   ]
  },
  {
   "cell_type": "markdown",
   "id": "155b51f7",
   "metadata": {},
   "source": [
    "No. 2\n"
   ]
  },
  {
   "cell_type": "code",
   "execution_count": 3,
   "id": "68d72aca",
   "metadata": {},
   "outputs": [
    {
     "name": "stdout",
     "output_type": "stream",
     "text": [
      "[7 8]\n"
     ]
    }
   ],
   "source": [
    "satu = np.array([[1,2],\n",
    "                 [4,5],\n",
    "                 [7,8]]\n",
    "                )\n",
    "print(satu[2])"
   ]
  },
  {
   "cell_type": "markdown",
   "id": "c917b4ad",
   "metadata": {},
   "source": [
    "No. 3"
   ]
  },
  {
   "cell_type": "code",
   "execution_count": 4,
   "id": "e2578e34",
   "metadata": {},
   "outputs": [
    {
     "name": "stdout",
     "output_type": "stream",
     "text": [
      "[6 5]\n"
     ]
    }
   ],
   "source": [
    "dua = np.array([[1,6,9],\n",
    "                 [2,5,8]]\n",
    "                )\n",
    "print(dua[:, 1])"
   ]
  },
  {
   "cell_type": "markdown",
   "id": "2d4a883b",
   "metadata": {},
   "source": [
    "No. 4"
   ]
  },
  {
   "cell_type": "code",
   "execution_count": 12,
   "id": "d8c8e9f5",
   "metadata": {},
   "outputs": [
    {
     "name": "stdout",
     "output_type": "stream",
     "text": [
      "[2 1] \n",
      "\n",
      "[3 8]\n"
     ]
    }
   ],
   "source": [
    "tiga = np.array([[4,3,8],\n",
    "                 [7,2,5],\n",
    "                 [6,1,9]]\n",
    "                )\n",
    "print(tiga[1:3, 1], '\\n')\n",
    "print(tiga[0, 1:3])"
   ]
  },
  {
   "cell_type": "markdown",
   "id": "1d95da52",
   "metadata": {},
   "source": [
    "No. 5"
   ]
  },
  {
   "cell_type": "code",
   "execution_count": 41,
   "id": "17a60113",
   "metadata": {},
   "outputs": [
    {
     "name": "stdout",
     "output_type": "stream",
     "text": [
      "[44 11 83] \n",
      "\n",
      "[[12 46]\n",
      " [67 65]] \n",
      "\n",
      "[[44 11 83]\n",
      " [12 46 28]\n",
      " [67 65 32]] \n",
      "\n",
      "[[92 44]\n",
      " [40 12]] \n",
      "\n",
      "[[23 35 93]\n",
      " [92 44 11]] \n",
      "\n",
      "[44 12 67] \n",
      "\n"
     ]
    }
   ],
   "source": [
    "empat = np.array([[23,35,93,87],\n",
    "                  [92,44,11,83],\n",
    "                  [40,12,46,28],\n",
    "                  [73,67,65,32]]\n",
    "                )\n",
    "print(empat[1, 1:4], '\\n')\n",
    "print(empat[2:4, 1:3], '\\n')\n",
    "print(empat[1:4, 1:4], '\\n')\n",
    "print(empat[1:3, 0:2], '\\n')\n",
    "print(empat[0:2, 0:3], '\\n')\n",
    "print(empat[1:4, 1], '\\n')"
   ]
  },
  {
   "cell_type": "code",
   "execution_count": null,
   "id": "9e43860f",
   "metadata": {},
   "outputs": [],
   "source": []
  }
 ],
 "metadata": {
  "kernelspec": {
   "display_name": "Python 3 (ipykernel)",
   "language": "python",
   "name": "python3"
  },
  "language_info": {
   "codemirror_mode": {
    "name": "ipython",
    "version": 3
   },
   "file_extension": ".py",
   "mimetype": "text/x-python",
   "name": "python",
   "nbconvert_exporter": "python",
   "pygments_lexer": "ipython3",
   "version": "3.7.0"
  }
 },
 "nbformat": 4,
 "nbformat_minor": 5
}
